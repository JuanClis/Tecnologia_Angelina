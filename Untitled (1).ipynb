{
  "nbformat": 4,
  "nbformat_minor": 0,
  "metadata": {
    "colab": {
      "provenance": [],
      "collapsed_sections": []
    },
    "kernelspec": {
      "name": "python3",
      "display_name": "Python 3"
    },
    "language_info": {
      "name": "python"
    }
  },
  "cells": [
    {
      "cell_type": "markdown",
      "source": [
        "<center>\n",
        "\n",
        "#**COLEGIO SIGLO XXI**\n",
        "#**PRESENTADO A: ING PAOLA ANDREA QUINTERO**\n",
        "#**PRESENTADO POR: ANGELINA ARGOTTY GARCIA**\n",
        "#**GRADO DÉCIMO**\n",
        "#**20 SEPTIEMBRE 2022**"
      ],
      "metadata": {
        "id": "SOa_rGIEf7WY"
      }
    },
    {
      "cell_type": "markdown",
      "source": [
        "#**¿Qué es Python?**\n",
        "# Python es un lenguaje de scripting independiente de plataforma y orientado a objetos, preparado para realizar cualquier tipo de programa, desde aplicaciones Windows a servidores de red o incluso, páginas web. Es un lenguaje interpretado, lo que significa que no se necesita compilar el código fuente para poder ejecutarlo, lo que ofrece ventajas como la rapidez de desarrollo e inconvenientes como una menor velocidad.\n",
        "#**Fecha de lanzamiento:** Diciembre de 1991\n",
        "\n",
        "#**Recuperado de:**https://desarrolloweb.com/articulos/1325.php"
      ],
      "metadata": {
        "id": "Popue3vYgnJN"
      }
    },
    {
      "cell_type": "code",
      "source": [
        "print (\"Esto es una suma\")\n",
        "numero_uno = 5\n",
        "numero_dos = 6\n",
        "resultado = numero_uno + numero_dos\n",
        "print (resultado)"
      ],
      "metadata": {
        "colab": {
          "base_uri": "https://localhost:8080/"
        },
        "id": "xC6INSxchffh",
        "outputId": "b4320ba3-171b-435b-868f-466f1383c717"
      },
      "execution_count": null,
      "outputs": [
        {
          "output_type": "stream",
          "name": "stdout",
          "text": [
            "Esto es una suma\n",
            "11\n"
          ]
        }
      ]
    },
    {
      "cell_type": "code",
      "source": [
        "print (\"Esto es una resta\")\n",
        "numero_uno = 5\n",
        "numero_dos = 6\n",
        "resultado = numero_uno - numero_dos\n",
        "print (resultado)"
      ],
      "metadata": {
        "colab": {
          "base_uri": "https://localhost:8080/"
        },
        "id": "K81hqjNqiKdH",
        "outputId": "ae33a19f-8ea7-497b-9b03-473bbfa56e45"
      },
      "execution_count": null,
      "outputs": [
        {
          "output_type": "stream",
          "name": "stdout",
          "text": [
            "Esto es una resta\n",
            "-1\n"
          ]
        }
      ]
    },
    {
      "cell_type": "code",
      "source": [
        "print (\"Esto es una multiplicación\")\n",
        "numero_uno = 5\n",
        "numero_dos = 6\n",
        "resultado = numero_uno * numero_dos\n",
        "print (resultado)"
      ],
      "metadata": {
        "colab": {
          "base_uri": "https://localhost:8080/"
        },
        "id": "sE1ENoq-iRZP",
        "outputId": "eb9562da-1f69-4a20-abdf-ab46b32dd290"
      },
      "execution_count": null,
      "outputs": [
        {
          "output_type": "stream",
          "name": "stdout",
          "text": [
            "Esto es una multiplicación\n",
            "30\n"
          ]
        }
      ]
    },
    {
      "cell_type": "code",
      "source": [
        "print (\"Esto es una división\")\n",
        "numero_uno = 9\n",
        "numero_dos = 3\n",
        "resultado = numero_uno / numero_dos\n",
        "print (resultado)"
      ],
      "metadata": {
        "colab": {
          "base_uri": "https://localhost:8080/"
        },
        "id": "nHnqUmM8iY2N",
        "outputId": "a09c6846-ee3f-4c6f-f612-40491692e0f0"
      },
      "execution_count": null,
      "outputs": [
        {
          "output_type": "stream",
          "name": "stdout",
          "text": [
            "Esto es una división\n",
            "3.0\n"
          ]
        }
      ]
    },
    {
      "cell_type": "markdown",
      "source": [
        "#**Ejercicios de Tipos de Datos Simples**"
      ],
      "metadata": {
        "id": "prhy6ACsiqFd"
      }
    },
    {
      "cell_type": "markdown",
      "source": [
        "#Ejercicio 1"
      ],
      "metadata": {
        "id": "7ZwvsZIMi8vH"
      }
    },
    {
      "cell_type": "markdown",
      "source": [
        "Escribir un ptograma que pregunte el nombre del usuario en la consola y un número entero e imprima por pantalla en lineas distintas el nombre del usuario tantas veces como el numero introducido."
      ],
      "metadata": {
        "id": "wmM3t19OjB_R"
      }
    },
    {
      "cell_type": "code",
      "source": [
        "nombre = input(\"¿Comó te llamas?\")\n",
        "n = input(\"Introduce un numero entero: \")\n",
        "print((nombre + \"\\n\") * int(n))"
      ],
      "metadata": {
        "colab": {
          "base_uri": "https://localhost:8080/"
        },
        "id": "PEm3CX1WjsOy",
        "outputId": "786d1508-1ca0-4deb-fcbe-09080b7f7600"
      },
      "execution_count": null,
      "outputs": [
        {
          "output_type": "stream",
          "name": "stdout",
          "text": [
            "¿Comó te llamas?Camilo\n",
            "Introduce un numero entero: 5\n",
            "Camilo\n",
            "Camilo\n",
            "Camilo\n",
            "Camilo\n",
            "Camilo\n",
            "\n"
          ]
        }
      ]
    },
    {
      "cell_type": "markdown",
      "source": [
        "#Ejercicio 2"
      ],
      "metadata": {
        "id": "Xip9TJWMk0rU"
      }
    },
    {
      "cell_type": "markdown",
      "source": [
        "Escribir un programa que le pida al usuario su peso (en kg) y estatura (en metros), calcule el indice de la masa corporal y lo almacene en una variable, e imprima por pantalla la frase \"Tu indice de masa corporal es \" donde \"imc\" es el indice de masa corporal calculado redondeando con dos decimales."
      ],
      "metadata": {
        "id": "RTDZaaQWk50J"
      }
    },
    {
      "cell_type": "code",
      "source": [
        "peso = input(\"¿Cuál es tu peso en kg?\")\n",
        "estatura = input(\"¿Cuál es tu estatura en metros?\")\n",
        "imc = round (float(peso)/float(estatura)**2,2)\n",
        "print(\"Tu índice de masa corporal es \"+str(imc))"
      ],
      "metadata": {
        "colab": {
          "base_uri": "https://localhost:8080/"
        },
        "id": "QgpfCz4CmP-c",
        "outputId": "77d586da-a65c-4006-df9a-c9c12debaa4f"
      },
      "execution_count": null,
      "outputs": [
        {
          "output_type": "stream",
          "name": "stdout",
          "text": [
            "¿Cuál es tu peso en kg?84\n",
            "¿Cuál es tu estatura en metros?1.68\n",
            "Tu índice de masa corporal es 29.76\n"
          ]
        }
      ]
    }
  ]
}